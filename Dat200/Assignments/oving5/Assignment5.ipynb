{
  "cells": [
    {
      "cell_type": "markdown",
      "metadata": {
        "id": "lRW-8EDMZcV6"
      },
      "source": [
        "# Assignment #5\n"
      ]
    },
    {
      "cell_type": "markdown",
      "metadata": {
        "id": "Nb-XeviMvyP7"
      },
      "source": [
        "Hash Tables in Python\n",
        "\n",
        "\n",
        "In this assignment, you will create Python dictionaries from scratch using a data structure called hash table. For example, here's a dictionary for storing and retrieving phone numbers using people's numbers."
      ]
    },
    {
      "cell_type": "code",
      "execution_count": null,
      "metadata": {
        "colab": {
          "base_uri": "https://localhost:8080/"
        },
        "id": "3NybY89AvwAw",
        "outputId": "80b3bca1-688a-4127-c6bd-a685e53ba918"
      },
      "outputs": [
        {
          "data": {
            "text/plain": [
              "{'3316412003': 'Waqar Bilal',\n",
              " '3033226026': 'Hamza Zia',\n",
              " '3032217073': 'Abid Zahid'}"
            ]
          },
          "execution_count": 200,
          "metadata": {},
          "output_type": "execute_result"
        }
      ],
      "source": [
        "\n",
        "phone_numbers = {\n",
        "  '3316412003': 'Waqar Bilal',\n",
        "'3033226026': 'Hamza Zia',\n",
        "'3032217073': 'Abid Zahid'\n",
        "}\n",
        "phone_numbers\n"
      ]
    },
    {
      "cell_type": "markdown",
      "metadata": {
        "id": "rU6Mby5cv52B"
      },
      "source": [
        "**Part 1**: Your objective in this assignment is to implement a “My_HashTable class” that supports the following operations:\n",
        "\n",
        "•\tInsert: Insert a new key-value pair\n",
        "\n",
        "•\tSearch: Find the value associated with a key\n",
        "\n",
        "•\tUpdate: Update the value associated with a key\n",
        "\n",
        "•\tdisplay_all: List all the keys stored in the hash table\n",
        "\n",
        "Complete the hash table implementation below by following the instructions in the comments.\n",
        "\n",
        " (30 p)"
      ]
    },
    {
      "cell_type": "code",
      "execution_count": null,
      "metadata": {
        "colab": {
          "base_uri": "https://localhost:8080/",
          "height": 140
        },
        "id": "P80DtFICTmH6",
        "outputId": "e9783dc6-9b5f-4fd4-fa7e-514fcc07f21c"
      },
      "outputs": [
        {
          "ename": "",
          "evalue": "",
          "output_type": "error",
          "traceback": [
            "\u001b[1;31mRunning cells with '.venv' requires the ipykernel package.\n",
            "\u001b[1;31mRun the following command to install 'ipykernel' into the Python environment. \n",
            "\u001b[1;31mCommand: '/Users/i_like_it/Documents/UiS/semester_3/Semester_3/Dat250/.venv/bin/python -m pip install ipykernel -U --force-reinstall'"
          ]
        }
      ],
      "source": [
        "class MyHashTable:\n",
        "    def __init__(self):\n",
        "\n",
        "        # 1. Create a list of size `list_size` with all values None\n",
        "        self.max_size = 4096\n",
        "        self.data = [None] * self.max_size\n",
        "\n",
        "    def get_hash(self,key):\n",
        "        # write simple algorithm for hashing, which can convert strings into numeric list indices.\n",
        "        # Iterate over the string, character by character Convert each character to a number using Python's built-in ord function.\n",
        "        # Add the numbers for each character to obtain the hash for the entire string\n",
        "        # Take the remainder of the result with the size of the data list\n",
        "        # Variable to store the result (updated after each iteration)\n",
        "        result = 0\n",
        "        for char in key:\n",
        "            result = (result + ord(char)) % self.max_size\n",
        "        return result\n",
        "\n",
        "\n",
        "    def get_index(self, key):\n",
        "        # Take the remainder of the result with the size of the data list and return the index of the list\n",
        "        hash_value = self.get_hash(key)\n",
        "        return hash_value\n",
        "\n",
        "    def insert(self, key, value):\n",
        "        # 1. Find the index for the key using get_index\n",
        "        index = self.get_index(key)\n",
        "        # 2. Store the key-value pair at the right index\n",
        "        if self.data[index] is None:\n",
        "            self.data[index] = []\n",
        "        self.data[index].append((key, value))\n",
        "\n",
        "    def search(self, key):\n",
        "        # 1. Find the index for the key using get_index\n",
        "        index = self.get_index(key)\n",
        "\n",
        "        # 2. Retrieve the data stored at the index\n",
        "        data_at_index = self.data[index]\n",
        "\n",
        "        # 3. Return the value if found, else return None\n",
        "        if data_at_index is not None:\n",
        "            for item in data_at_index:\n",
        "                if item[0] == key:\n",
        "                    return item[1]\n",
        "        return None\n",
        "\n",
        "    def update(self, key, value):\n",
        "        # 1. Find the index for the key using get_index\n",
        "        index = self.get_index(key)\n",
        "\n",
        "        # 2. Store the new key-value pair at the right index\n",
        "        if self.data[index] is not None:\n",
        "            for i, item in enumerate(self.data[index]):\n",
        "                if item[0] == key:\n",
        "                    self.data[index][i] = (key, value)\n",
        "\n",
        "    def display_all(self):\n",
        "        # 1. Extract the key from each key-value pair\n",
        "        keys = []\n",
        "        for index in self.data:\n",
        "            if index is not None:\n",
        "                for item in index:\n",
        "                    keys.append(item[0])\n",
        "        return keys\n"
      ]
    },
    {
      "cell_type": "markdown",
      "metadata": {
        "id": "XQcugutuwQyy"
      },
      "source": [
        "**Part2:** Read the phonebook CSV file and store the key/value data in the hashtable object created in the “My_HashTable class”, hashtable size is : max_size =4096\n",
        "\n",
        "* take phone column as the key\n",
        "* take the name column as the value\n",
        "\n",
        " (10 p)"
      ]
    },
    {
      "cell_type": "code",
      "execution_count": null,
      "metadata": {
        "id": "q3-Q1_h4mxTo"
      },
      "outputs": [],
      "source": [
        "# write your code here"
      ]
    },
    {
      "cell_type": "markdown",
      "metadata": {
        "id": "K3GUcD6UwZbj"
      },
      "source": [
        "**Part 3:** try to add these two new data into the created hashtable:\n",
        "\n",
        "phone_number_1 = '123456789', name_1 = 'UiS'\n",
        "\n",
        "phone_number_2 = '987654321', name_2 = 'NTNU'\n",
        "\n",
        "\n",
        "•\tExplain what happened there when you add the second number???\n",
        "\n",
        " (10 p)\n",
        "\n",
        "\n"
      ]
    },
    {
      "cell_type": "code",
      "execution_count": null,
      "metadata": {
        "id": "IoLYiV2bm-Z3"
      },
      "outputs": [],
      "source": [
        "phone_number_1 = '123456789'\n",
        "name_1 = 'UiS'\n",
        "\n",
        "phone_number_2 = '987654321'\n",
        "name_2 = 'NTNU'\n"
      ]
    },
    {
      "cell_type": "markdown",
      "metadata": {
        "id": "QgTGT20KbQRS"
      },
      "source": [
        "**Part 4:**\n",
        "Handling Collisions with Linear Probing: As you might have wondered, multiple keys can have the same hash.\n",
        "\n",
        "Data stored against one key may override the data stored against another, if they have the same hash.\n",
        "\n",
        "* So Define a function called get_valid_index, which starts searching the data list from the index determined by the hashing function get_index and returns the first index which is either empty or contains a key-value pair matching the given key. Here you implement the linear probing method to find the available slot and return the index.\n",
        "\n",
        "\n",
        "\n",
        "* now implement a hash table class with linear probing. You need to define a  \"ProbingHashTable\" class.\n",
        "* add get_valid_index function into the ProbingHashTable class\n",
        "\n",
        "* Implement all the operations for this class: Insert,Search,Update, display_all\n",
        "\n",
        "\n",
        " (40 p)\n",
        "\n",
        "\n",
        "\n"
      ]
    },
    {
      "cell_type": "code",
      "execution_count": null,
      "metadata": {
        "id": "u0WMuRHj08o1"
      },
      "outputs": [],
      "source": [
        "def get_valid_index(data_list, key):\n",
        "    # Start with the index returned by get_index\n",
        "\n"
      ]
    },
    {
      "cell_type": "code",
      "execution_count": null,
      "metadata": {
        "id": "0OTUyZtJewSI"
      },
      "outputs": [],
      "source": [
        "class ProbingHashTable:\n",
        "    def __init__(self):\n",
        "\n",
        "        # 1. Create a list of size `list_size` with all values None\n",
        "        max_size = 4096\n",
        "\n",
        "\n",
        "    def get_valid_index(self,key):\n",
        "\n",
        "\n",
        "\n",
        "    def get_hash(self,key):\n",
        "        # write simple algorithm for hashing, which can convert strings into numeric list indices.\n",
        "        # Iterate over the string, character by character Convert each character to a number using Python's built-in ord function.\n",
        "        # Add the numbers for each character to obtain the hash for the entire string\n",
        "        # Take the remainder of the result with the size of the data list\n",
        "        # Variable to store the result (updated after each iteration)\n",
        "\n",
        "\n",
        "\n",
        "    def get_index(self, key):\n",
        "        # Take the remainder of the result with the size of the data list and return the index of the list\n",
        "\n",
        "\n",
        "    def insert(self, key, value):\n",
        "        # 1. Find the index for the key using get_index\n",
        "\n",
        "        # 2. Store the key-value pair at the right index\n",
        "\n",
        "\n",
        "    def search(self, key):\n",
        "        # 1. Find the index for the key using get_index\n",
        "\n",
        "\n",
        "        # 2. Retrieve the data stored at the index\n",
        "\n",
        "\n",
        "        # 3. Return the value if found, else return None\n",
        "\n",
        "\n",
        "    def update(self, key, value):\n",
        "        # 1. Find the index for the key using get_index\n",
        "\n",
        "\n",
        "        # 2. Store the new key-value pair at the right index\n",
        "\n",
        "\n",
        "    def display_all(self):\n",
        "        # 1. Extract the key from each key-value pair\n"
      ]
    },
    {
      "cell_type": "markdown",
      "metadata": {
        "id": "VxEOI_aR2gED"
      },
      "source": [
        "read csv file and store the data into a hashtable object"
      ]
    },
    {
      "cell_type": "code",
      "execution_count": null,
      "metadata": {
        "id": "uwj5k90i2oQr"
      },
      "outputs": [],
      "source": [
        "# write your code here"
      ]
    },
    {
      "cell_type": "markdown",
      "metadata": {
        "id": "DSpXs-ly2qXr"
      },
      "source": [
        "Try to add two new numbers and test\n",
        " (10 p)"
      ]
    },
    {
      "cell_type": "code",
      "execution_count": null,
      "metadata": {
        "colab": {
          "base_uri": "https://localhost:8080/"
        },
        "id": "9cAgEJ_tk1vg",
        "outputId": "2c74b842-eb41-40ab-f022-285c45d56b82"
      },
      "outputs": [
        {
          "data": {
            "text/plain": [
              "True"
            ]
          },
          "execution_count": 197,
          "metadata": {},
          "output_type": "execute_result"
        }
      ],
      "source": [
        "phone_number_1 = '123456789'\n",
        "name_1 = 'UiS'\n",
        "\n",
        "phone_number_2 = '987654321'\n",
        "name_2 = 'NTNU'\n",
        "\n",
        "#insert the first key\n",
        "\n",
        "\n",
        "\n",
        "# Insert a colliding key\n",
        "\n",
        "\n",
        "# Check the new and old keys\n",
        "\n",
        "\n"
      ]
    }
  ],
  "metadata": {
    "colab": {
      "provenance": []
    },
    "kernelspec": {
      "display_name": "Python 3",
      "name": "python3"
    },
    "language_info": {
      "name": "python",
      "version": "3.11.5"
    }
  },
  "nbformat": 4,
  "nbformat_minor": 0
}
