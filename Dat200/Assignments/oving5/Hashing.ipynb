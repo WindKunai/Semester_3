{
  "nbformat": 4,
  "nbformat_minor": 0,
  "metadata": {
    "colab": {
      "provenance": []
    },
    "kernelspec": {
      "name": "python3",
      "display_name": "Python 3"
    },
    "language_info": {
      "name": "python"
    }
  },
  "cells": [
    {
      "cell_type": "code",
      "source": [
        "dictionary = {}"
      ],
      "metadata": {
        "id": "JH6DiJw9gqrX"
      },
      "execution_count": 2,
      "outputs": []
    },
    {
      "cell_type": "code",
      "source": [
        "dictionary = {\n",
        "    1: 'python' ,\n",
        "    2: 'C',\n",
        "    3: 'C++',\n",
        "    4: ['os', 'java', 'R']\n",
        "\n",
        "}"
      ],
      "metadata": {
        "id": "cHe0v-ZAgzYZ"
      },
      "execution_count": 3,
      "outputs": []
    },
    {
      "cell_type": "code",
      "source": [
        "dictionary"
      ],
      "metadata": {
        "colab": {
          "base_uri": "https://localhost:8080/"
        },
        "id": "33C5LS_nhLoG",
        "outputId": "4c6c7569-0cd9-45bd-fd83-79bb41e75e55"
      },
      "execution_count": 4,
      "outputs": [
        {
          "output_type": "execute_result",
          "data": {
            "text/plain": [
              "{1: 'python', 2: 'C', 3: 'C++', 4: ['os', 'java', 'R']}"
            ]
          },
          "metadata": {},
          "execution_count": 4
        }
      ]
    },
    {
      "cell_type": "code",
      "source": [
        "person = {\n",
        "    'firstname': 'Tom' ,\n",
        "    'lastname': 'Robertson' ,\n",
        "    'age': 21,\n",
        "    'payrate': 13.5\n",
        "\n",
        "}\n",
        "person"
      ],
      "metadata": {
        "colab": {
          "base_uri": "https://localhost:8080/"
        },
        "id": "ltAwlEL-hMpe",
        "outputId": "e2a9188f-d3cf-40f6-aa59-c3e4691e16d8"
      },
      "execution_count": 5,
      "outputs": [
        {
          "output_type": "execute_result",
          "data": {
            "text/plain": [
              "{'firstname': 'Tom', 'lastname': 'Robertson', 'age': 21, 'payrate': 13.5}"
            ]
          },
          "metadata": {},
          "execution_count": 5
        }
      ]
    },
    {
      "cell_type": "code",
      "source": [
        "person['firstname']"
      ],
      "metadata": {
        "colab": {
          "base_uri": "https://localhost:8080/",
          "height": 36
        },
        "id": "vJ9e3cnChiLp",
        "outputId": "3962d4fa-85a4-47a5-9836-dfec2a61b29c"
      },
      "execution_count": 6,
      "outputs": [
        {
          "output_type": "execute_result",
          "data": {
            "text/plain": [
              "'Tom'"
            ],
            "application/vnd.google.colaboratory.intrinsic+json": {
              "type": "string"
            }
          },
          "metadata": {},
          "execution_count": 6
        }
      ]
    },
    {
      "cell_type": "code",
      "source": [
        "person['sex'] = 'male'\n",
        "person"
      ],
      "metadata": {
        "colab": {
          "base_uri": "https://localhost:8080/"
        },
        "id": "-VyvofxYhwHQ",
        "outputId": "c729ea4b-16da-4aee-8f38-72d234bf902e"
      },
      "execution_count": 7,
      "outputs": [
        {
          "output_type": "execute_result",
          "data": {
            "text/plain": [
              "{'firstname': 'Tom',\n",
              " 'lastname': 'Robertson',\n",
              " 'age': 21,\n",
              " 'payrate': 13.5,\n",
              " 'sex': 'male'}"
            ]
          },
          "metadata": {},
          "execution_count": 7
        }
      ]
    },
    {
      "cell_type": "code",
      "source": [
        "key_to_find = 'firstname'\n",
        "if  key_to_find in person:\n",
        "   print(person[key_to_find])"
      ],
      "metadata": {
        "colab": {
          "base_uri": "https://localhost:8080/"
        },
        "id": "5_iQMT2oiCMB",
        "outputId": "74e7c415-93df-444f-8643-97deaac8b958"
      },
      "execution_count": 10,
      "outputs": [
        {
          "output_type": "stream",
          "name": "stdout",
          "text": [
            "Tom\n"
          ]
        }
      ]
    },
    {
      "cell_type": "code",
      "source": [
        "del person['age']"
      ],
      "metadata": {
        "id": "aEZ3F65-iaqK"
      },
      "execution_count": 11,
      "outputs": []
    },
    {
      "cell_type": "code",
      "source": [
        "person"
      ],
      "metadata": {
        "colab": {
          "base_uri": "https://localhost:8080/"
        },
        "id": "cI9P31IjioLk",
        "outputId": "258a85ae-cb3f-477d-a1c6-aa589cb3a2f6"
      },
      "execution_count": 12,
      "outputs": [
        {
          "output_type": "execute_result",
          "data": {
            "text/plain": [
              "{'firstname': 'Tom', 'lastname': 'Robertson', 'payrate': 13.5, 'sex': 'male'}"
            ]
          },
          "metadata": {},
          "execution_count": 12
        }
      ]
    },
    {
      "cell_type": "code",
      "source": [
        "\n",
        "drive.mount('/content/drive')"
      ],
      "metadata": {
        "colab": {
          "base_uri": "https://localhost:8080/"
        },
        "id": "ybsVz0aSipYM",
        "outputId": "2e12a79a-6c17-471a-9347-1807040d906a"
      },
      "execution_count": 13,
      "outputs": [
        {
          "output_type": "stream",
          "name": "stdout",
          "text": [
            "Mounted at /content/drive\n"
          ]
        }
      ]
    },
    {
      "cell_type": "code",
      "source": [
        "path = '/content/drive/My Drive/Colab Notebooks/stock_prices.csv'"
      ],
      "metadata": {
        "id": "HVlZ-5XKjJoX"
      },
      "execution_count": 14,
      "outputs": []
    },
    {
      "cell_type": "code",
      "source": [
        "stock_price = []\n",
        "\n",
        "with open(path, 'r') as f:\n",
        "  for line in f:\n",
        "    tokens = line.split(',')\n",
        "    day = tokens[0]\n",
        "    price = float(tokens[1])\n",
        "    stock_price.append([day,price])"
      ],
      "metadata": {
        "id": "Tj9ZB4h3jfiL"
      },
      "execution_count": 17,
      "outputs": []
    },
    {
      "cell_type": "code",
      "source": [
        "stock_price"
      ],
      "metadata": {
        "colab": {
          "base_uri": "https://localhost:8080/"
        },
        "id": "4oMPlVyGkBJK",
        "outputId": "df085831-0d7f-4038-a8f9-7bd3f55e86ba"
      },
      "execution_count": 18,
      "outputs": [
        {
          "output_type": "execute_result",
          "data": {
            "text/plain": [
              "[['march 6', 310.0],\n",
              " ['march 7', 340.0],\n",
              " ['march 8', 380.0],\n",
              " ['march 9', 302.0],\n",
              " ['march 10', 297.0],\n",
              " ['march 11', 323.0]]"
            ]
          },
          "metadata": {},
          "execution_count": 18
        }
      ]
    },
    {
      "cell_type": "code",
      "source": [
        "stock_price[2]"
      ],
      "metadata": {
        "colab": {
          "base_uri": "https://localhost:8080/"
        },
        "id": "N0ElUbE2kCxh",
        "outputId": "e94d8a8b-043e-4c34-f519-72f19c5ec5d3"
      },
      "execution_count": 20,
      "outputs": [
        {
          "output_type": "execute_result",
          "data": {
            "text/plain": [
              "['march 8', 380.0]"
            ]
          },
          "metadata": {},
          "execution_count": 20
        }
      ]
    },
    {
      "cell_type": "code",
      "source": [
        "stock_price[2][1]"
      ],
      "metadata": {
        "colab": {
          "base_uri": "https://localhost:8080/"
        },
        "id": "VLUpboLXkSou",
        "outputId": "c83e267c-a5ba-432a-c690-abd10e91f526"
      },
      "execution_count": 21,
      "outputs": [
        {
          "output_type": "execute_result",
          "data": {
            "text/plain": [
              "380.0"
            ]
          },
          "metadata": {},
          "execution_count": 21
        }
      ]
    },
    {
      "cell_type": "code",
      "source": [
        "stock_price = {}\n",
        "\n",
        "with open(path, 'r') as f:\n",
        "  for line in f:\n",
        "    tokens = line.split(',')\n",
        "    day = tokens[0]\n",
        "    price = float(tokens[1])\n",
        "    stock_price[day] = price"
      ],
      "metadata": {
        "id": "GTyIBnZ_kcTt"
      },
      "execution_count": 22,
      "outputs": []
    },
    {
      "cell_type": "code",
      "source": [
        "stock_price"
      ],
      "metadata": {
        "colab": {
          "base_uri": "https://localhost:8080/"
        },
        "id": "GPEnq_Ipk9Ch",
        "outputId": "1988197e-fbb1-4758-a53c-4a4ea0c01788"
      },
      "execution_count": 23,
      "outputs": [
        {
          "output_type": "execute_result",
          "data": {
            "text/plain": [
              "{'march 6': 310.0,\n",
              " 'march 7': 340.0,\n",
              " 'march 8': 380.0,\n",
              " 'march 9': 302.0,\n",
              " 'march 10': 297.0,\n",
              " 'march 11': 323.0}"
            ]
          },
          "metadata": {},
          "execution_count": 23
        }
      ]
    },
    {
      "cell_type": "code",
      "source": [
        "stock_price['march 6']"
      ],
      "metadata": {
        "colab": {
          "base_uri": "https://localhost:8080/"
        },
        "id": "Ed44XPpuk-Ko",
        "outputId": "b206b07f-3426-42ce-b4ee-93b586ca9054"
      },
      "execution_count": 24,
      "outputs": [
        {
          "output_type": "execute_result",
          "data": {
            "text/plain": [
              "310.0"
            ]
          },
          "metadata": {},
          "execution_count": 24
        }
      ]
    },
    {
      "cell_type": "code",
      "source": [
        "ord('m')"
      ],
      "metadata": {
        "colab": {
          "base_uri": "https://localhost:8080/"
        },
        "id": "K6Rk63FtlGwf",
        "outputId": "06123f81-08e3-4ad1-86d5-9399a23d79c4"
      },
      "execution_count": 25,
      "outputs": [
        {
          "output_type": "execute_result",
          "data": {
            "text/plain": [
              "109"
            ]
          },
          "metadata": {},
          "execution_count": 25
        }
      ]
    },
    {
      "cell_type": "code",
      "source": [
        "ord('a')"
      ],
      "metadata": {
        "colab": {
          "base_uri": "https://localhost:8080/"
        },
        "id": "e6QTSGdQncYk",
        "outputId": "aff4c9cd-0f24-4a29-d80f-e4bc27c882ef"
      },
      "execution_count": 26,
      "outputs": [
        {
          "output_type": "execute_result",
          "data": {
            "text/plain": [
              "97"
            ]
          },
          "metadata": {},
          "execution_count": 26
        }
      ]
    },
    {
      "cell_type": "code",
      "source": [
        "'march 6'"
      ],
      "metadata": {
        "id": "-IwbJ4SGnvOr"
      },
      "execution_count": null,
      "outputs": []
    },
    {
      "cell_type": "code",
      "source": [
        "def get_hash(key):\n",
        "  hash_sum = 0\n",
        "  for char in key:\n",
        "    hash_sum += ord(char)\n",
        "  return hash_sum % 10"
      ],
      "metadata": {
        "id": "nb9sUAXjngVn"
      },
      "execution_count": 28,
      "outputs": []
    },
    {
      "cell_type": "code",
      "source": [
        "get_hash('march 6')"
      ],
      "metadata": {
        "colab": {
          "base_uri": "https://localhost:8080/"
        },
        "id": "qb4YP7vFoH-0",
        "outputId": "8c90b0ab-b4d7-468f-94ba-821be753c990"
      },
      "execution_count": 29,
      "outputs": [
        {
          "output_type": "execute_result",
          "data": {
            "text/plain": [
              "9"
            ]
          },
          "metadata": {},
          "execution_count": 29
        }
      ]
    },
    {
      "cell_type": "code",
      "source": [
        "class HashTable:\n",
        "  def __init__(self):\n",
        "    self.maxsize = 10\n",
        "    self.arr = [None for i in range(self.maxsize)]\n",
        "\n",
        "  def get_hash(self,key):\n",
        "    hash_sum = 0\n",
        "    for char in key:\n",
        "      hash_sum += ord(char)\n",
        "    return hash_sum % 10\n",
        "\n",
        "  def add(self,key, value):\n",
        "    h_value = self.get_hash(key)\n",
        "    self.arr[h_value]= value\n",
        "\n"
      ],
      "metadata": {
        "id": "CeV565xGoOLr"
      },
      "execution_count": 41,
      "outputs": []
    },
    {
      "cell_type": "code",
      "source": [
        "t = HashTable()"
      ],
      "metadata": {
        "id": "Gv8j_mQ0oxbM"
      },
      "execution_count": 42,
      "outputs": []
    },
    {
      "cell_type": "code",
      "source": [
        "t.arr"
      ],
      "metadata": {
        "colab": {
          "base_uri": "https://localhost:8080/"
        },
        "id": "ZxeZBM0Po1Ej",
        "outputId": "a9e6f272-7222-4c0b-99d3-82e20c793cfa"
      },
      "execution_count": 43,
      "outputs": [
        {
          "output_type": "execute_result",
          "data": {
            "text/plain": [
              "[None, None, None, None, None, None, None, None, None, None]"
            ]
          },
          "metadata": {},
          "execution_count": 43
        }
      ]
    },
    {
      "cell_type": "code",
      "source": [
        "t.add('march 6', 310)"
      ],
      "metadata": {
        "id": "PuWFUCy9o1-D"
      },
      "execution_count": 44,
      "outputs": []
    },
    {
      "cell_type": "code",
      "source": [
        "t.arr"
      ],
      "metadata": {
        "colab": {
          "base_uri": "https://localhost:8080/"
        },
        "id": "12O45VhEpaXD",
        "outputId": "129903b2-3c41-4447-ad13-a0556629cc37"
      },
      "execution_count": 45,
      "outputs": [
        {
          "output_type": "execute_result",
          "data": {
            "text/plain": [
              "[None, None, None, None, None, None, None, None, None, 310]"
            ]
          },
          "metadata": {},
          "execution_count": 45
        }
      ]
    },
    {
      "cell_type": "code",
      "source": [
        "t.add('march 7', 340)"
      ],
      "metadata": {
        "id": "NmH9MjJPptAa"
      },
      "execution_count": 46,
      "outputs": []
    },
    {
      "cell_type": "code",
      "source": [
        "t.arr"
      ],
      "metadata": {
        "colab": {
          "base_uri": "https://localhost:8080/"
        },
        "id": "v1jVFj9lpxFS",
        "outputId": "df4cdfc1-3d5c-4066-8afe-50531a43ce43"
      },
      "execution_count": 47,
      "outputs": [
        {
          "output_type": "execute_result",
          "data": {
            "text/plain": [
              "[340, None, None, None, None, None, None, None, None, 310]"
            ]
          },
          "metadata": {},
          "execution_count": 47
        }
      ]
    },
    {
      "cell_type": "code",
      "source": [
        "t.arr[0]"
      ],
      "metadata": {
        "colab": {
          "base_uri": "https://localhost:8080/"
        },
        "id": "d8f3SpDwpyCS",
        "outputId": "c866ccda-7589-478b-8559-828ff6722db8"
      },
      "execution_count": 48,
      "outputs": [
        {
          "output_type": "execute_result",
          "data": {
            "text/plain": [
              "340"
            ]
          },
          "metadata": {},
          "execution_count": 48
        }
      ]
    },
    {
      "cell_type": "code",
      "source": [
        "class HashTable:\n",
        "  def __init__(self):\n",
        "    self.maxsize = 10\n",
        "    self.arr = [None for i in range(self.maxsize)]\n",
        "\n",
        "  def get_hash(self,key):\n",
        "    hash_sum = 0\n",
        "    for char in key:\n",
        "      hash_sum += ord(char)\n",
        "    return hash_sum % 10\n",
        "\n",
        "  def __setitem__(self, key, value):\n",
        "    h_value = self.get_hash(key)\n",
        "    self.arr[h_value]= value\n",
        "\n",
        "  def __getitem__(self, key):\n",
        "    h_value = self.get_hash(key)\n",
        "    return self.arr[h_value]\n"
      ],
      "metadata": {
        "id": "I5xDtWDFqOfW"
      },
      "execution_count": 59,
      "outputs": []
    },
    {
      "cell_type": "code",
      "source": [
        "t = HashTable()"
      ],
      "metadata": {
        "id": "mqyUQfP4q0DK"
      },
      "execution_count": 60,
      "outputs": []
    },
    {
      "cell_type": "code",
      "source": [
        "t['march 6'] = 310"
      ],
      "metadata": {
        "id": "NN0ounWxq3YR"
      },
      "execution_count": 61,
      "outputs": []
    },
    {
      "cell_type": "code",
      "source": [
        "t['march 6']"
      ],
      "metadata": {
        "colab": {
          "base_uri": "https://localhost:8080/"
        },
        "id": "V1kbq58Nq5mx",
        "outputId": "9dac898c-7015-49a6-b7be-255038ab3544"
      },
      "execution_count": 62,
      "outputs": [
        {
          "output_type": "execute_result",
          "data": {
            "text/plain": [
              "310"
            ]
          },
          "metadata": {},
          "execution_count": 62
        }
      ]
    },
    {
      "cell_type": "code",
      "source": [],
      "metadata": {
        "id": "OKAEb6d2rHrq"
      },
      "execution_count": null,
      "outputs": []
    }
  ]
}